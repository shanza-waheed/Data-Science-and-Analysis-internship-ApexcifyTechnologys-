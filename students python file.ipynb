{
 "cells": [
  {
   "cell_type": "code",
   "execution_count": 1,
   "id": "e9853f1a-19a0-4f8d-8e74-a9c6bb74bbd9",
   "metadata": {},
   "outputs": [],
   "source": [
    "import pandas as pd"
   ]
  },
  {
   "cell_type": "code",
   "execution_count": 3,
   "id": "aa8f1a8e-d0d9-425f-9515-0b51f2f144f3",
   "metadata": {},
   "outputs": [],
   "source": [
    "df = pd.read_csv(\"students.csv\")"
   ]
  },
  {
   "cell_type": "code",
   "execution_count": 4,
   "id": "10a8fdbd-be3a-4017-90b0-d6fc39e84a96",
   "metadata": {},
   "outputs": [],
   "source": [
    "df[\"Average\"] = df[[\"Math\", \"English\", \"Science\"]].mean(axis=1)"
   ]
  },
  {
   "cell_type": "code",
   "execution_count": 5,
   "id": "d1db03a5-c74d-4ebe-91fc-e2da0b7a8052",
   "metadata": {},
   "outputs": [],
   "source": [
    "highest_avg_student = df.loc[df[\"Average\"].idxmax()]"
   ]
  },
  {
   "cell_type": "code",
   "execution_count": 6,
   "id": "abe940b8-7760-484c-ab6d-124f06176de2",
   "metadata": {},
   "outputs": [
    {
     "name": "stdout",
     "output_type": "stream",
     "text": [
      "    Name  Math  English  Science    Average\n",
      "0   Ayan    80       75       90  81.666667\n",
      "1   Sara    92       88       95  91.666667\n",
      "2  Bilal    76       69       72  72.333333\n",
      "3  Mehak    88       90       84  87.333333\n",
      "4   Zara    95       85       91  90.333333\n"
     ]
    }
   ],
   "source": [
    "print(df)"
   ]
  },
  {
   "cell_type": "code",
   "execution_count": 8,
   "id": "9756f4bc-af31-4a49-b668-12edad5941ac",
   "metadata": {},
   "outputs": [],
   "source": [
    "df[\"Average\"] = df[[\"Math\", \"English\", \"Science\"]].mean(axis=1).astype(int)"
   ]
  },
  {
   "cell_type": "code",
   "execution_count": 9,
   "id": "6438f3e5-88d7-4490-813a-f16aaa79eaa8",
   "metadata": {},
   "outputs": [
    {
     "name": "stdout",
     "output_type": "stream",
     "text": [
      "    Name  Math  English  Science  Average\n",
      "0   Ayan    80       75       90       81\n",
      "1   Sara    92       88       95       91\n",
      "2  Bilal    76       69       72       72\n",
      "3  Mehak    88       90       84       87\n",
      "4   Zara    95       85       91       90\n"
     ]
    }
   ],
   "source": [
    "print(df)"
   ]
  },
  {
   "cell_type": "code",
   "execution_count": 10,
   "id": "9b3de708-f938-4bf6-a1f4-d8984e50f806",
   "metadata": {},
   "outputs": [
    {
     "name": "stdout",
     "output_type": "stream",
     "text": [
      "Name            Sara\n",
      "Math              92\n",
      "English           88\n",
      "Science           95\n",
      "Average    91.666667\n",
      "Name: 1, dtype: object\n"
     ]
    }
   ],
   "source": [
    "print(highest_avg_student)"
   ]
  },
  {
   "cell_type": "code",
   "execution_count": null,
   "id": "f8edff64-2096-4b38-93ee-d51f0ae631ad",
   "metadata": {},
   "outputs": [],
   "source": []
  }
 ],
 "metadata": {
  "kernelspec": {
   "display_name": "Python 3 (ipykernel)",
   "language": "python",
   "name": "python3"
  },
  "language_info": {
   "codemirror_mode": {
    "name": "ipython",
    "version": 3
   },
   "file_extension": ".py",
   "mimetype": "text/x-python",
   "name": "python",
   "nbconvert_exporter": "python",
   "pygments_lexer": "ipython3",
   "version": "3.13.5"
  }
 },
 "nbformat": 4,
 "nbformat_minor": 5
}
